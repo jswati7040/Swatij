{
 "cells": [
  {
   "cell_type": "code",
   "execution_count": null,
   "id": "456812bf",
   "metadata": {},
   "outputs": [],
   "source": [
    "a"
   ]
  },
  {
   "cell_type": "code",
   "execution_count": null,
   "id": "f8c4e531",
   "metadata": {},
   "outputs": [],
   "source": [
    "b"
   ]
  },
  {
   "cell_type": "code",
   "execution_count": null,
   "id": "d2203e97",
   "metadata": {},
   "outputs": [],
   "source": [
    "# Comment\n",
    "#Run\n",
    "#1. Ctrl+Enter = execute\n",
    "#2. Shift+Enter = execute & new cell below"
   ]
  },
  {
   "cell_type": "markdown",
   "id": "d60e4e77",
   "metadata": {},
   "source": [
    "# Data Types in Python"
   ]
  },
  {
   "cell_type": "markdown",
   "id": "47a5b42a",
   "metadata": {},
   "source": [
    "1. Number\n",
    "2. String\n",
    "3. List\n",
    "4. Tuple\n",
    "5. Set\n",
    "6. Dictionary"
   ]
  },
  {
   "cell_type": "markdown",
   "id": "f486ee38",
   "metadata": {},
   "source": [
    "# NUMERIC DATATYPE\n",
    "1. Integers  2. Floats (Decimal no.s)  3. Complex"
   ]
  },
  {
   "cell_type": "code",
   "execution_count": 1,
   "id": "9a5749d2",
   "metadata": {},
   "outputs": [
    {
     "name": "stdout",
     "output_type": "stream",
     "text": [
      "<class 'int'>\n"
     ]
    }
   ],
   "source": [
    "x = 6\n",
    "print(type(x))"
   ]
  },
  {
   "cell_type": "code",
   "execution_count": 2,
   "id": "891526d1",
   "metadata": {},
   "outputs": [
    {
     "name": "stdout",
     "output_type": "stream",
     "text": [
      "<class 'float'>\n"
     ]
    }
   ],
   "source": [
    "y = 4.5\n",
    "print(type(y))"
   ]
  },
  {
   "cell_type": "code",
   "execution_count": 3,
   "id": "d6c75c9e",
   "metadata": {},
   "outputs": [
    {
     "name": "stdout",
     "output_type": "stream",
     "text": [
      "<class 'float'>\n"
     ]
    }
   ],
   "source": [
    "a = 5.0\n",
    "print(type(a))"
   ]
  },
  {
   "cell_type": "code",
   "execution_count": 4,
   "id": "4d9fe10d",
   "metadata": {},
   "outputs": [
    {
     "name": "stdout",
     "output_type": "stream",
     "text": [
      "<class 'complex'>\n"
     ]
    }
   ],
   "source": [
    "b = a + 3j\n",
    "print(type(b))"
   ]
  },
  {
   "cell_type": "code",
   "execution_count": 5,
   "id": "cfe1ed17",
   "metadata": {},
   "outputs": [
    {
     "name": "stdout",
     "output_type": "stream",
     "text": [
      "<class 'int'>\n"
     ]
    }
   ],
   "source": [
    "d = 4546677898876554356767890788654335465766\n",
    "print(type(d))"
   ]
  },
  {
   "cell_type": "markdown",
   "id": "4306a44a",
   "metadata": {},
   "source": [
    "# STRINGS"
   ]
  },
  {
   "cell_type": "markdown",
   "id": "8eb2dcde",
   "metadata": {},
   "source": [
    "\"Hello\" is same as 'Hello'"
   ]
  },
  {
   "cell_type": "code",
   "execution_count": 6,
   "id": "884e8f33",
   "metadata": {},
   "outputs": [
    {
     "name": "stdout",
     "output_type": "stream",
     "text": [
      "Welcome to ExcelRSolutions\n"
     ]
    }
   ],
   "source": [
    "string1 = \"Welcome to ExcelRSolutions\"\n",
    "print(string1)"
   ]
  },
  {
   "cell_type": "code",
   "execution_count": 7,
   "id": "dfbb7f28",
   "metadata": {},
   "outputs": [
    {
     "name": "stdout",
     "output_type": "stream",
     "text": [
      "ExcelR Solutions\n"
     ]
    }
   ],
   "source": [
    "string2 = 'ExcelR Solutions'\n",
    "print(string2)"
   ]
  },
  {
   "cell_type": "code",
   "execution_count": 12,
   "id": "b5b3d86d",
   "metadata": {},
   "outputs": [
    {
     "name": "stdout",
     "output_type": "stream",
     "text": [
      "ExcelR\n",
      "Solutions\n",
      "is\n",
      "favorite\n",
      "\n"
     ]
    }
   ],
   "source": [
    "#creation of string with triple quotes allows multiple lines\n",
    "string3 = '''ExcelR\n",
    "Solutions\n",
    "is\n",
    "favorite\n",
    "'''\n",
    "print(string3)"
   ]
  },
  {
   "cell_type": "markdown",
   "id": "34de47e6",
   "metadata": {},
   "source": [
    "# STRING INDEXING [SLICING USING COLON]"
   ]
  },
  {
   "cell_type": "code",
   "execution_count": 13,
   "id": "36792d1b",
   "metadata": {},
   "outputs": [],
   "source": [
    "x = \"ExcelR Solutions\""
   ]
  },
  {
   "cell_type": "code",
   "execution_count": 21,
   "id": "0abf71c4",
   "metadata": {},
   "outputs": [
    {
     "name": "stdout",
     "output_type": "stream",
     "text": [
      "E\n",
      "s\n",
      "lR So\n",
      "elR So\n",
      "elR Solutions\n",
      "ExcelR Solutions\n",
      "ExcelR \n"
     ]
    }
   ],
   "source": [
    "print(x[0])\n",
    "print(x[-1])\n",
    "print(x[-12:-7])\n",
    "print(x[3:-7])\n",
    "print(x[3:])\n",
    "print(x[:])\n",
    "print(x[:7])"
   ]
  },
  {
   "cell_type": "markdown",
   "id": "99348ed7",
   "metadata": {},
   "source": [
    "# STRING BUILT IN FUNCTIONS"
   ]
  },
  {
   "cell_type": "code",
   "execution_count": 22,
   "id": "a6d2fa09",
   "metadata": {},
   "outputs": [],
   "source": [
    "string1 = \"ExcelR Solutions\""
   ]
  },
  {
   "cell_type": "code",
   "execution_count": 23,
   "id": "4118091a",
   "metadata": {},
   "outputs": [
    {
     "name": "stdout",
     "output_type": "stream",
     "text": [
      "16\n"
     ]
    }
   ],
   "source": [
    "print(len(string1))     # len() returns length of string"
   ]
  },
  {
   "cell_type": "code",
   "execution_count": 24,
   "id": "69a38870",
   "metadata": {},
   "outputs": [
    {
     "name": "stdout",
     "output_type": "stream",
     "text": [
      "excelr solutions\n"
     ]
    }
   ],
   "source": [
    "print(string1.lower())"
   ]
  },
  {
   "cell_type": "code",
   "execution_count": 25,
   "id": "5667c729",
   "metadata": {},
   "outputs": [
    {
     "name": "stdout",
     "output_type": "stream",
     "text": [
      "EXCELR SOLUTIONS\n"
     ]
    }
   ],
   "source": [
    "print(string1.upper())"
   ]
  },
  {
   "cell_type": "code",
   "execution_count": 33,
   "id": "a9848073",
   "metadata": {},
   "outputs": [
    {
     "name": "stdout",
     "output_type": "stream",
     "text": [
      "['ExcelR', 'Solutions']\n"
     ]
    }
   ],
   "source": [
    "string2 = \"ExcelR , Solutions\"\n",
    "print(string2.split(\" , \"))"
   ]
  },
  {
   "cell_type": "markdown",
   "id": "03d9854d",
   "metadata": {},
   "source": [
    "# OPERATORS"
   ]
  },
  {
   "cell_type": "code",
   "execution_count": null,
   "id": "071f067f",
   "metadata": {},
   "outputs": [],
   "source": [
    "#Operators are used to perform operations on variables and values.\n",
    "1. Arithmetic\n",
    "2. Assignment\n",
    "3. Comparison\n",
    "4. Logical\n",
    "5. Identity\n",
    "6. Bitwise\n",
    "7. Membership"
   ]
  },
  {
   "cell_type": "markdown",
   "id": "60319d75",
   "metadata": {},
   "source": [
    "ARITHMETIC"
   ]
  },
  {
   "cell_type": "code",
   "execution_count": null,
   "id": "3f523fda",
   "metadata": {},
   "outputs": [],
   "source": [
    "+, -, *, /, %(MODULUS), **(EXPONENTIATION)"
   ]
  },
  {
   "cell_type": "code",
   "execution_count": 34,
   "id": "2e31a4e5",
   "metadata": {},
   "outputs": [],
   "source": [
    "x = 3\n",
    "y = 4\n",
    "z = 8"
   ]
  },
  {
   "cell_type": "code",
   "execution_count": 37,
   "id": "000430f3",
   "metadata": {},
   "outputs": [
    {
     "name": "stdout",
     "output_type": "stream",
     "text": [
      "7\n",
      "-1\n",
      "12\n",
      "0.75\n",
      "3\n",
      "81\n",
      "52\n"
     ]
    }
   ],
   "source": [
    "print(x+y)\n",
    "print(x-y)\n",
    "print(x*y)\n",
    "print(x/y)\n",
    "print(x%y)\n",
    "print(x**y)\n",
    "print((x+y)*z-y)"
   ]
  },
  {
   "cell_type": "markdown",
   "id": "1a4e39da",
   "metadata": {},
   "source": [
    "COMPARISON"
   ]
  },
  {
   "cell_type": "code",
   "execution_count": null,
   "id": "518f8983",
   "metadata": {},
   "outputs": [],
   "source": [
    "==, !=(not equal), >,<, >=, <="
   ]
  },
  {
   "cell_type": "code",
   "execution_count": 38,
   "id": "be836713",
   "metadata": {},
   "outputs": [],
   "source": [
    "x = 10\n",
    "y = 12"
   ]
  },
  {
   "cell_type": "code",
   "execution_count": 39,
   "id": "8135f440",
   "metadata": {},
   "outputs": [
    {
     "name": "stdout",
     "output_type": "stream",
     "text": [
      "False\n",
      "True\n",
      "False\n",
      "True\n"
     ]
    }
   ],
   "source": [
    "print(x>y)\n",
    "print(x<y)\n",
    "print(x==y)\n",
    "print(x!=y)"
   ]
  },
  {
   "cell_type": "markdown",
   "id": "9e8ce2c7",
   "metadata": {},
   "source": [
    "LOGICAL"
   ]
  },
  {
   "cell_type": "code",
   "execution_count": null,
   "id": "dda3a941",
   "metadata": {},
   "outputs": [],
   "source": [
    "Logical operators are used to combine conditional statements"
   ]
  },
  {
   "cell_type": "code",
   "execution_count": null,
   "id": "ad750a5d",
   "metadata": {},
   "outputs": [],
   "source": [
    "and = return True if both statements are true\n",
    "or = returns True if one of the statements is true\n",
    "not = reverses the result"
   ]
  },
  {
   "cell_type": "code",
   "execution_count": 40,
   "id": "38c8d11d",
   "metadata": {},
   "outputs": [],
   "source": [
    "x = True\n",
    "y = False"
   ]
  },
  {
   "cell_type": "code",
   "execution_count": 41,
   "id": "f4f5672f",
   "metadata": {},
   "outputs": [
    {
     "name": "stdout",
     "output_type": "stream",
     "text": [
      "False\n"
     ]
    }
   ],
   "source": [
    "print(x and y)"
   ]
  },
  {
   "cell_type": "code",
   "execution_count": 42,
   "id": "233c6eb0",
   "metadata": {},
   "outputs": [
    {
     "name": "stdout",
     "output_type": "stream",
     "text": [
      "True\n"
     ]
    }
   ],
   "source": [
    "print(x or y)"
   ]
  },
  {
   "cell_type": "code",
   "execution_count": 43,
   "id": "3e25ef93",
   "metadata": {},
   "outputs": [
    {
     "name": "stdout",
     "output_type": "stream",
     "text": [
      "False\n"
     ]
    }
   ],
   "source": [
    "print(not x)"
   ]
  },
  {
   "cell_type": "markdown",
   "id": "df7e460a",
   "metadata": {},
   "source": [
    "IDENTITY OPERATORS"
   ]
  },
  {
   "cell_type": "code",
   "execution_count": null,
   "id": "ea11e7d5",
   "metadata": {},
   "outputs": [],
   "source": [
    "is = return True if both variables are the same object\n",
    "is not = returns True if both variables are not the same object"
   ]
  },
  {
   "cell_type": "code",
   "execution_count": 44,
   "id": "6af32d23",
   "metadata": {},
   "outputs": [],
   "source": [
    "x = [\"apple\",\"banana\"]\n",
    "y = [\"apple\",\"banana\"]\n",
    "z = x"
   ]
  },
  {
   "cell_type": "code",
   "execution_count": 45,
   "id": "0f82edbb",
   "metadata": {},
   "outputs": [
    {
     "name": "stdout",
     "output_type": "stream",
     "text": [
      "True\n",
      "False\n",
      "True\n",
      "False\n",
      "True\n"
     ]
    }
   ],
   "source": [
    "print(x is z)\n",
    "print(x is y)\n",
    "print(x == y)\n",
    "print(x is not z)\n",
    "print(x is not y)"
   ]
  },
  {
   "cell_type": "markdown",
   "id": "755d43cc",
   "metadata": {},
   "source": [
    "ASSIGNMENT OPERATORS"
   ]
  },
  {
   "cell_type": "code",
   "execution_count": null,
   "id": "80f62f58",
   "metadata": {},
   "outputs": [],
   "source": [
    "x+=3 :-    x = x+3\n",
    "x-=3 :-    x = x-3\n",
    "x*=3 :-    x = x*3\n",
    "/, %, **, &=, |=, >>=,<<="
   ]
  },
  {
   "cell_type": "markdown",
   "id": "b81c775f",
   "metadata": {},
   "source": [
    "MEMBERSHIP OPERATORS"
   ]
  },
  {
   "cell_type": "code",
   "execution_count": null,
   "id": "b6e179df",
   "metadata": {},
   "outputs": [],
   "source": [
    "#They are used to test if a sequence is present in an object or not\n",
    "in = returns True if a sequence with the specified value is present in the object\n",
    "not in = returns True if asequence with the specified value is not present in the object"
   ]
  },
  {
   "cell_type": "code",
   "execution_count": 1,
   "id": "bc30a79e",
   "metadata": {},
   "outputs": [],
   "source": [
    "x = [\"apple\",\"banana\"]"
   ]
  },
  {
   "cell_type": "code",
   "execution_count": 2,
   "id": "f77b9374",
   "metadata": {},
   "outputs": [
    {
     "name": "stdout",
     "output_type": "stream",
     "text": [
      "True\n"
     ]
    }
   ],
   "source": [
    "print(\"banana\" in x)"
   ]
  },
  {
   "cell_type": "code",
   "execution_count": 3,
   "id": "ea2ef15f",
   "metadata": {},
   "outputs": [
    {
     "name": "stdout",
     "output_type": "stream",
     "text": [
      "True\n"
     ]
    }
   ],
   "source": [
    "print(\"pineapple\" not in x)"
   ]
  },
  {
   "cell_type": "code",
   "execution_count": 4,
   "id": "8d9b6ebc",
   "metadata": {},
   "outputs": [
    {
     "name": "stdout",
     "output_type": "stream",
     "text": [
      "False\n"
     ]
    }
   ],
   "source": [
    "y = [1,2,3,4,5]\n",
    "print(6 in y)"
   ]
  },
  {
   "cell_type": "markdown",
   "id": "1c77d12e",
   "metadata": {},
   "source": [
    "Taking Input from User"
   ]
  },
  {
   "cell_type": "code",
   "execution_count": null,
   "id": "3bfcbebd",
   "metadata": {},
   "outputs": [],
   "source": [
    "#inbuilt function to read the input from the keyboard"
   ]
  },
  {
   "cell_type": "code",
   "execution_count": 6,
   "id": "a5e8dde1",
   "metadata": {},
   "outputs": [
    {
     "name": "stdout",
     "output_type": "stream",
     "text": [
      "Enter number : 34\n",
      "34\n"
     ]
    }
   ],
   "source": [
    "num = input(\"Enter number : \")\n",
    "print(num)"
   ]
  },
  {
   "cell_type": "code",
   "execution_count": 7,
   "id": "bca0f25c",
   "metadata": {},
   "outputs": [
    {
     "name": "stdout",
     "output_type": "stream",
     "text": [
      "Enter name : Deepika\n",
      "Deepika\n"
     ]
    }
   ],
   "source": [
    "name = input(\"Enter name : \")\n",
    "print(name)"
   ]
  },
  {
   "cell_type": "code",
   "execution_count": 8,
   "id": "c91c5e7e",
   "metadata": {},
   "outputs": [
    {
     "name": "stdout",
     "output_type": "stream",
     "text": [
      "<class 'str'>\n",
      "<class 'str'>\n"
     ]
    }
   ],
   "source": [
    "print(type(num))\n",
    "print(type(name))"
   ]
  },
  {
   "cell_type": "code",
   "execution_count": 12,
   "id": "1d81d870",
   "metadata": {},
   "outputs": [
    {
     "name": "stdout",
     "output_type": "stream",
     "text": [
      "Enter number : 5\n",
      "5.0\n"
     ]
    }
   ],
   "source": [
    "number = float(input(\"Enter number : \"))\n",
    "print(number)"
   ]
  },
  {
   "cell_type": "markdown",
   "id": "3a70e1d7",
   "metadata": {},
   "source": [
    "if, elif, else"
   ]
  },
  {
   "cell_type": "code",
   "execution_count": null,
   "id": "87329fa7",
   "metadata": {},
   "outputs": [],
   "source": [
    "#If statement is used for decision making. It will run the body of code only when IF statement is True"
   ]
  },
  {
   "cell_type": "code",
   "execution_count": 13,
   "id": "3c006940",
   "metadata": {},
   "outputs": [
    {
     "name": "stdout",
     "output_type": "stream",
     "text": [
      "a is lesser than b\n"
     ]
    }
   ],
   "source": [
    "a = 10\n",
    "b = 33\n",
    "if a>b:\n",
    "    print(\"a is greater than b\")\n",
    "elif a == b:\n",
    "    print(\"a and b are equal\")\n",
    "else:\n",
    "    print(\"a is lesser than b\")"
   ]
  },
  {
   "cell_type": "markdown",
   "id": "c03fff88",
   "metadata": {},
   "source": [
    "LOOPS IN PYTHON"
   ]
  },
  {
   "cell_type": "code",
   "execution_count": null,
   "id": "1b67c9e9",
   "metadata": {},
   "outputs": [],
   "source": [
    "while loop = can execute statements as long as the condition is true\n",
    "for loop = can execute a set of statements, once for each item in a list, tuple, set, etc....\n",
    "for loop gives everything in sequential order as an output"
   ]
  },
  {
   "cell_type": "markdown",
   "id": "9e9a2dc6",
   "metadata": {},
   "source": [
    "while loop"
   ]
  },
  {
   "cell_type": "code",
   "execution_count": 14,
   "id": "34a643f8",
   "metadata": {},
   "outputs": [
    {
     "name": "stdout",
     "output_type": "stream",
     "text": [
      "1\n",
      "2\n",
      "3\n",
      "4\n",
      "5\n"
     ]
    }
   ],
   "source": [
    "#Simple while loop\n",
    "\n",
    "i = 1\n",
    "while i < 6:\n",
    "    print(i)\n",
    "    i+=1        #i = i+1"
   ]
  },
  {
   "cell_type": "code",
   "execution_count": 18,
   "id": "8057bbe3",
   "metadata": {},
   "outputs": [
    {
     "name": "stdout",
     "output_type": "stream",
     "text": [
      "1\n",
      "2\n",
      "3\n"
     ]
    }
   ],
   "source": [
    "#while loop with break statement\n",
    "i = 1\n",
    "while i < 6:\n",
    "    print(i)\n",
    "    if(i==3):\n",
    "        break\n",
    "    i += 1"
   ]
  },
  {
   "cell_type": "code",
   "execution_count": 22,
   "id": "d3c83e5f",
   "metadata": {},
   "outputs": [
    {
     "name": "stdout",
     "output_type": "stream",
     "text": [
      "1\n",
      "2\n",
      "4\n",
      "5\n",
      "6\n"
     ]
    }
   ],
   "source": [
    "#while loop with continue statement\n",
    "i = 0\n",
    "while i < 6:\n",
    "    i+=1\n",
    "    if i == 3:\n",
    "        continue\n",
    "    print(i)"
   ]
  },
  {
   "cell_type": "markdown",
   "id": "e26c680f",
   "metadata": {},
   "source": [
    "For Loop"
   ]
  },
  {
   "cell_type": "code",
   "execution_count": null,
   "id": "ca41bdfd",
   "metadata": {},
   "outputs": [],
   "source": [
    "list1 = [1,2,3,4]\n",
    "for x in list1:\n",
    "    print(x)"
   ]
  },
  {
   "cell_type": "code",
   "execution_count": null,
   "id": "aaa6304d",
   "metadata": {},
   "outputs": [],
   "source": [
    "fruits = [\"apple\",\"banana\",\"orange\",\"mango\"]\n",
    "for x in fruits:\n",
    "    print(x)"
   ]
  },
  {
   "cell_type": "code",
   "execution_count": null,
   "id": "87dbab2d",
   "metadata": {},
   "outputs": [],
   "source": [
    "for x in \"banana\":\n",
    "    print(x)"
   ]
  },
  {
   "cell_type": "code",
   "execution_count": null,
   "id": "e92c2d06",
   "metadata": {},
   "outputs": [],
   "source": [
    "for x in range(2):\n",
    "    print(x)"
   ]
  },
  {
   "cell_type": "markdown",
   "id": "405802a2",
   "metadata": {},
   "source": [
    "PYTHON COLLECTIONS"
   ]
  },
  {
   "cell_type": "code",
   "execution_count": null,
   "id": "00984e0b",
   "metadata": {},
   "outputs": [],
   "source": [
    "List : ordered, changeable, allows duplicates, []\n",
    "Tuple : ordered, unchangeable-immutable, allows duplicates, (), u can delete it\n",
    "Set : unordered, unindexed, no duplicates(takes only unique values), {}\n",
    "Dictionary : unodered, changeable, indexed, no duplicate, {'k':1,'a':2,'b':3}, keys will be unique"
   ]
  },
  {
   "cell_type": "markdown",
   "id": "f147a906",
   "metadata": {},
   "source": [
    "LIST"
   ]
  },
  {
   "cell_type": "code",
   "execution_count": 30,
   "id": "4af138dc",
   "metadata": {},
   "outputs": [
    {
     "name": "stdout",
     "output_type": "stream",
     "text": [
      "['apple', 'kiwi', 'mango']\n"
     ]
    }
   ],
   "source": [
    "#Creating a List\n",
    "list1 = [\"apple\",\"kiwi\",\"mango\"]\n",
    "print(list1)"
   ]
  },
  {
   "cell_type": "code",
   "execution_count": 39,
   "id": "65e5fad6",
   "metadata": {},
   "outputs": [
    {
     "name": "stdout",
     "output_type": "stream",
     "text": [
      "mango\n"
     ]
    }
   ],
   "source": [
    "#Access using index values\n",
    "print(list1[2])"
   ]
  },
  {
   "cell_type": "code",
   "execution_count": 34,
   "id": "5e2e38ca",
   "metadata": {},
   "outputs": [
    {
     "name": "stdout",
     "output_type": "stream",
     "text": [
      "apple\n",
      "kiwi\n",
      "mango\n"
     ]
    }
   ],
   "source": [
    "#Loop through the list\n",
    "for x in list1:\n",
    "    print(x)"
   ]
  },
  {
   "cell_type": "code",
   "execution_count": 37,
   "id": "cf75828c",
   "metadata": {},
   "outputs": [
    {
     "name": "stdout",
     "output_type": "stream",
     "text": [
      "kiwi is present in the list\n"
     ]
    }
   ],
   "source": [
    "if \"kiwi\" in list1:\n",
    "    print(\"kiwi is present in the list\")"
   ]
  },
  {
   "cell_type": "code",
   "execution_count": 1,
   "id": "e8fa104a",
   "metadata": {},
   "outputs": [],
   "source": [
    "#Add items to list\n",
    "list1 = [\"apple\",\"kiwi\",\"mango\"]"
   ]
  },
  {
   "cell_type": "code",
   "execution_count": 2,
   "id": "f64d05f2",
   "metadata": {},
   "outputs": [
    {
     "name": "stdout",
     "output_type": "stream",
     "text": [
      "['apple', 'kiwi', 'mango', 'pineapple']\n"
     ]
    }
   ],
   "source": [
    "list1.append(\"pineapple\")\n",
    "print(list1)"
   ]
  },
  {
   "cell_type": "code",
   "execution_count": 3,
   "id": "19dac46f",
   "metadata": {},
   "outputs": [
    {
     "name": "stdout",
     "output_type": "stream",
     "text": [
      "['apple', 'kiwi', 'banana', 'mango', 'pineapple']\n"
     ]
    }
   ],
   "source": [
    "#Insert item in specific position\n",
    "list1.insert(2,\"banana\")\n",
    "print(list1)"
   ]
  },
  {
   "cell_type": "code",
   "execution_count": 4,
   "id": "d9404d0b",
   "metadata": {},
   "outputs": [
    {
     "name": "stdout",
     "output_type": "stream",
     "text": [
      "['apple', 'kiwi', 'mango', 'pineapple']\n"
     ]
    }
   ],
   "source": [
    "#remove item\n",
    "list1.remove(\"banana\")\n",
    "print(list1)"
   ]
  },
  {
   "cell_type": "code",
   "execution_count": 5,
   "id": "17c2cabe",
   "metadata": {},
   "outputs": [
    {
     "name": "stdout",
     "output_type": "stream",
     "text": [
      "['apple', 'kiwi', 'mango']\n"
     ]
    }
   ],
   "source": [
    "list1.pop()\n",
    "print(list1)"
   ]
  },
  {
   "cell_type": "code",
   "execution_count": 6,
   "id": "b13142b3",
   "metadata": {},
   "outputs": [
    {
     "name": "stdout",
     "output_type": "stream",
     "text": [
      "after deleting first element ['kiwi', 'mango']\n"
     ]
    }
   ],
   "source": [
    "#del keyword removes the item from specified index\n",
    "del list1[0]\n",
    "print(\"after deleting first element\", list1)"
   ]
  },
  {
   "cell_type": "code",
   "execution_count": null,
   "id": "863da394",
   "metadata": {},
   "outputs": [],
   "source": [
    "#List Methods\n",
    "append(), clear(),copy(), count(), index(), insert(), pop(), remove(), reverse(), sort()"
   ]
  },
  {
   "cell_type": "markdown",
   "id": "141fb905",
   "metadata": {},
   "source": [
    "# TUPLE"
   ]
  },
  {
   "cell_type": "code",
   "execution_count": null,
   "id": "97aa4217",
   "metadata": {},
   "outputs": [],
   "source": [
    "#A Tuple is a collection which is ordered and unchangeable-immutable, ()"
   ]
  },
  {
   "cell_type": "code",
   "execution_count": 7,
   "id": "95b44c7e",
   "metadata": {},
   "outputs": [
    {
     "name": "stdout",
     "output_type": "stream",
     "text": [
      "('apple', 'banana', 'cherry')\n"
     ]
    }
   ],
   "source": [
    "#createa tuple\n",
    "tuple1 = (\"apple\",\"banana\",\"cherry\")\n",
    "print(tuple1)"
   ]
  },
  {
   "cell_type": "code",
   "execution_count": 8,
   "id": "5c9e6065",
   "metadata": {},
   "outputs": [
    {
     "name": "stdout",
     "output_type": "stream",
     "text": [
      "banana\n"
     ]
    }
   ],
   "source": [
    "#Access tuple items\n",
    "print(tuple1[1])"
   ]
  },
  {
   "cell_type": "code",
   "execution_count": 9,
   "id": "b39be58a",
   "metadata": {},
   "outputs": [
    {
     "name": "stdout",
     "output_type": "stream",
     "text": [
      "3\n"
     ]
    }
   ],
   "source": [
    "#tuple length\n",
    "print(len(tuple1))"
   ]
  },
  {
   "cell_type": "code",
   "execution_count": 10,
   "id": "22ec753c",
   "metadata": {},
   "outputs": [
    {
     "name": "stdout",
     "output_type": "stream",
     "text": [
      "yes, apple is in fruits tuple\n"
     ]
    }
   ],
   "source": [
    "#check if specified item exists in tuple\n",
    "if \"apple\" in tuple1:\n",
    "    print(\"yes, apple is in fruits tuple\")\n",
    "else:\n",
    "    print(\"apple is not in fruits tuple\")"
   ]
  },
  {
   "cell_type": "code",
   "execution_count": 16,
   "id": "f47a7d9f",
   "metadata": {},
   "outputs": [
    {
     "name": "stdout",
     "output_type": "stream",
     "text": [
      "banana\n",
      "cherry\n"
     ]
    }
   ],
   "source": [
    "#Tuple Iterations\n",
    "for x in tuple1:\n",
    "    if x == \"apple\":\n",
    "        continue\n",
    "    print(x)"
   ]
  },
  {
   "cell_type": "code",
   "execution_count": 13,
   "id": "794dde3a",
   "metadata": {},
   "outputs": [],
   "source": [
    "#Tuple Functions\n",
    "thistuple = (\"apple\",\"apple\",\"banana\",\"orange\")"
   ]
  },
  {
   "cell_type": "code",
   "execution_count": 14,
   "id": "44f9174d",
   "metadata": {},
   "outputs": [
    {
     "name": "stdout",
     "output_type": "stream",
     "text": [
      "2\n"
     ]
    }
   ],
   "source": [
    "#occurances in tuple\n",
    "print(thistuple.count(\"apple\"))"
   ]
  },
  {
   "cell_type": "code",
   "execution_count": 15,
   "id": "7eb8f5bb",
   "metadata": {},
   "outputs": [
    {
     "name": "stdout",
     "output_type": "stream",
     "text": [
      "0\n"
     ]
    }
   ],
   "source": [
    "#searches specified value and returns position\n",
    "print(thistuple.index(\"apple\"))"
   ]
  },
  {
   "cell_type": "code",
   "execution_count": 18,
   "id": "a4959b4e",
   "metadata": {},
   "outputs": [
    {
     "ename": "TypeError",
     "evalue": "'tuple' object does not support item assignment",
     "output_type": "error",
     "traceback": [
      "\u001b[1;31m---------------------------------------------------------------------------\u001b[0m",
      "\u001b[1;31mTypeError\u001b[0m                                 Traceback (most recent call last)",
      "Input \u001b[1;32mIn [18]\u001b[0m, in \u001b[0;36m<cell line: 4>\u001b[1;34m()\u001b[0m\n\u001b[0;32m      1\u001b[0m \u001b[38;5;66;03m#replace items of a tuple\u001b[39;00m\n\u001b[0;32m      2\u001b[0m \u001b[38;5;66;03m#once tuple is created it is immutable-unchangeable\u001b[39;00m\n\u001b[0;32m      3\u001b[0m thistuple \u001b[38;5;241m=\u001b[39m (\u001b[38;5;124m\"\u001b[39m\u001b[38;5;124mapple\u001b[39m\u001b[38;5;124m\"\u001b[39m,\u001b[38;5;124m\"\u001b[39m\u001b[38;5;124mkiwi\u001b[39m\u001b[38;5;124m\"\u001b[39m,\u001b[38;5;124m\"\u001b[39m\u001b[38;5;124mmango\u001b[39m\u001b[38;5;124m\"\u001b[39m)\n\u001b[1;32m----> 4\u001b[0m thistuple[\u001b[38;5;241m1\u001b[39m] \u001b[38;5;241m=\u001b[39m \u001b[38;5;124m\"\u001b[39m\u001b[38;5;124mcarrot\u001b[39m\u001b[38;5;124m\"\u001b[39m\n\u001b[0;32m      5\u001b[0m \u001b[38;5;28mprint\u001b[39m(thistuple)\n",
      "\u001b[1;31mTypeError\u001b[0m: 'tuple' object does not support item assignment"
     ]
    }
   ],
   "source": [
    "#replace items of a tuple\n",
    "#once tuple is created it is immutable-unchangeable\n",
    "thistuple = (\"apple\",\"kiwi\",\"mango\")\n",
    "thistuple[1] = \"carrot\"\n",
    "print(thistuple)"
   ]
  },
  {
   "cell_type": "code",
   "execution_count": 19,
   "id": "748adb4a",
   "metadata": {},
   "outputs": [
    {
     "ename": "NameError",
     "evalue": "name 'thistuple' is not defined",
     "output_type": "error",
     "traceback": [
      "\u001b[1;31m---------------------------------------------------------------------------\u001b[0m",
      "\u001b[1;31mNameError\u001b[0m                                 Traceback (most recent call last)",
      "Input \u001b[1;32mIn [19]\u001b[0m, in \u001b[0;36m<cell line: 3>\u001b[1;34m()\u001b[0m\n\u001b[0;32m      1\u001b[0m \u001b[38;5;66;03m#Deletion of entire tuple is possible\u001b[39;00m\n\u001b[0;32m      2\u001b[0m \u001b[38;5;28;01mdel\u001b[39;00m thistuple\n\u001b[1;32m----> 3\u001b[0m \u001b[38;5;28mprint\u001b[39m(\u001b[43mthistuple\u001b[49m)\n",
      "\u001b[1;31mNameError\u001b[0m: name 'thistuple' is not defined"
     ]
    }
   ],
   "source": [
    "#Deletion of entire tuple is possible\n",
    "del thistuple\n",
    "print(thistuple)"
   ]
  },
  {
   "cell_type": "code",
   "execution_count": 23,
   "id": "5f3c882c",
   "metadata": {},
   "outputs": [],
   "source": [
    "#List and Tuple Case Study\n",
    "import sys\n",
    "import timeit\n",
    "list1 = [1,2,3,4,5,6,7,8,12.5]\n",
    "tuple1 = (1,2,3,4,5,6,7,8,12.5)"
   ]
  },
  {
   "cell_type": "code",
   "execution_count": 24,
   "id": "055d1790",
   "metadata": {},
   "outputs": [
    {
     "name": "stdout",
     "output_type": "stream",
     "text": [
      "List size: 152\n",
      "Tuple size: 112\n"
     ]
    }
   ],
   "source": [
    "print(\"List size:\", sys.getsizeof(list1))\n",
    "print(\"Tuple size:\",sys.getsizeof(tuple1))"
   ]
  },
  {
   "cell_type": "code",
   "execution_count": 27,
   "id": "f5a29812",
   "metadata": {},
   "outputs": [
    {
     "name": "stdout",
     "output_type": "stream",
     "text": [
      "list time: 7.06910280000011\n",
      "tuple time: 0.8645675000007031\n"
     ]
    }
   ],
   "source": [
    "list_test = timeit.timeit(stmt = \"[1,2,3,4,5,6,7,8,12.5]\", number = 100000000)\n",
    "tuple_test = timeit.timeit(stmt = \"(1,2,3,4,5,6,7,8,12.5)\", number = 100000000)\n",
    "print(\"list time:\", list_test)\n",
    "print(\"tuple time:\", tuple_test)"
   ]
  },
  {
   "cell_type": "markdown",
   "id": "7a1fdf64",
   "metadata": {},
   "source": [
    "# Set"
   ]
  },
  {
   "cell_type": "code",
   "execution_count": null,
   "id": "f9565e33",
   "metadata": {},
   "outputs": [],
   "source": [
    "Unordered, unindexed, no duplicates, {}"
   ]
  },
  {
   "cell_type": "code",
   "execution_count": 1,
   "id": "137b76c4",
   "metadata": {},
   "outputs": [
    {
     "data": {
      "text/plain": [
       "{'apple', 'kiwi', 'orange'}"
      ]
     },
     "execution_count": 1,
     "metadata": {},
     "output_type": "execute_result"
    }
   ],
   "source": [
    "#create set\n",
    "thisset = {\"apple\",\"kiwi\",\"orange\"}\n",
    "thisset"
   ]
  },
  {
   "cell_type": "code",
   "execution_count": 2,
   "id": "c6c70763",
   "metadata": {},
   "outputs": [
    {
     "name": "stdout",
     "output_type": "stream",
     "text": [
      "kiwi\n",
      "apple\n",
      "orange\n"
     ]
    }
   ],
   "source": [
    "#Access items using loop\n",
    "for x in thisset:\n",
    "    print(x)"
   ]
  },
  {
   "cell_type": "code",
   "execution_count": 3,
   "id": "f45ea8d8",
   "metadata": {},
   "outputs": [
    {
     "name": "stdout",
     "output_type": "stream",
     "text": [
      "True\n"
     ]
    }
   ],
   "source": [
    "#check if an item is present in set\n",
    "print(\"kiwi\" in thisset)"
   ]
  },
  {
   "cell_type": "code",
   "execution_count": 7,
   "id": "8f76b884",
   "metadata": {},
   "outputs": [
    {
     "name": "stdout",
     "output_type": "stream",
     "text": [
      "{'apple', 'orange', 'banana', 'cherry', 'kiwi'}\n"
     ]
    }
   ],
   "source": [
    "#add items\n",
    "thisset.add(\"cherry\")\n",
    "print(thisset)"
   ]
  },
  {
   "cell_type": "code",
   "execution_count": 5,
   "id": "0b37bd6a",
   "metadata": {},
   "outputs": [
    {
     "name": "stdout",
     "output_type": "stream",
     "text": [
      "4\n"
     ]
    }
   ],
   "source": [
    "#number of items in set\n",
    "print(len(thisset))"
   ]
  },
  {
   "cell_type": "code",
   "execution_count": 9,
   "id": "e4865154",
   "metadata": {},
   "outputs": [
    {
     "ename": "KeyError",
     "evalue": "'cherry'",
     "output_type": "error",
     "traceback": [
      "\u001b[1;31m---------------------------------------------------------------------------\u001b[0m",
      "\u001b[1;31mKeyError\u001b[0m                                  Traceback (most recent call last)",
      "Input \u001b[1;32mIn [9]\u001b[0m, in \u001b[0;36m<cell line: 2>\u001b[1;34m()\u001b[0m\n\u001b[0;32m      1\u001b[0m \u001b[38;5;66;03m#remove items from the set\u001b[39;00m\n\u001b[1;32m----> 2\u001b[0m \u001b[43mthisset\u001b[49m\u001b[38;5;241;43m.\u001b[39;49m\u001b[43mremove\u001b[49m\u001b[43m(\u001b[49m\u001b[38;5;124;43m\"\u001b[39;49m\u001b[38;5;124;43mcherry\u001b[39;49m\u001b[38;5;124;43m\"\u001b[39;49m\u001b[43m)\u001b[49m\n\u001b[0;32m      3\u001b[0m thisset\n",
      "\u001b[1;31mKeyError\u001b[0m: 'cherry'"
     ]
    }
   ],
   "source": [
    "#remove items from the set\n",
    "thisset.remove(\"cherry\")\n",
    "thisset"
   ]
  },
  {
   "cell_type": "code",
   "execution_count": 11,
   "id": "99df6301",
   "metadata": {},
   "outputs": [
    {
     "data": {
      "text/plain": [
       "{'apple', 'banana', 'kiwi', 'orange'}"
      ]
     },
     "execution_count": 11,
     "metadata": {},
     "output_type": "execute_result"
    }
   ],
   "source": [
    "thisset.discard(\"cherry\")\n",
    "thisset"
   ]
  },
  {
   "cell_type": "code",
   "execution_count": 12,
   "id": "db6cf94a",
   "metadata": {},
   "outputs": [
    {
     "data": {
      "text/plain": [
       "{'banana', 'kiwi', 'orange'}"
      ]
     },
     "execution_count": 12,
     "metadata": {},
     "output_type": "execute_result"
    }
   ],
   "source": [
    "#remove last element using pop\n",
    "thisset.pop()\n",
    "thisset"
   ]
  },
  {
   "cell_type": "code",
   "execution_count": 13,
   "id": "82f55690",
   "metadata": {},
   "outputs": [
    {
     "ename": "NameError",
     "evalue": "name 'thisset' is not defined",
     "output_type": "error",
     "traceback": [
      "\u001b[1;31m---------------------------------------------------------------------------\u001b[0m",
      "\u001b[1;31mNameError\u001b[0m                                 Traceback (most recent call last)",
      "Input \u001b[1;32mIn [13]\u001b[0m, in \u001b[0;36m<cell line: 3>\u001b[1;34m()\u001b[0m\n\u001b[0;32m      1\u001b[0m \u001b[38;5;66;03m#delete set completely\u001b[39;00m\n\u001b[0;32m      2\u001b[0m \u001b[38;5;28;01mdel\u001b[39;00m thisset\n\u001b[1;32m----> 3\u001b[0m \u001b[43mthisset\u001b[49m\n",
      "\u001b[1;31mNameError\u001b[0m: name 'thisset' is not defined"
     ]
    }
   ],
   "source": [
    "#delete set completely\n",
    "del thisset\n",
    "thisset"
   ]
  },
  {
   "cell_type": "markdown",
   "id": "f41dc992",
   "metadata": {},
   "source": [
    "Set methods"
   ]
  },
  {
   "cell_type": "code",
   "execution_count": 14,
   "id": "ec5df51f",
   "metadata": {},
   "outputs": [],
   "source": [
    "#set operations\n",
    "set1 = {\"apple\",\"kiwi\",\"orange\"}\n",
    "set2 = {\"google\",\"microsoft\",\"apple\"}"
   ]
  },
  {
   "cell_type": "code",
   "execution_count": 15,
   "id": "09a8ee04",
   "metadata": {},
   "outputs": [
    {
     "name": "stdout",
     "output_type": "stream",
     "text": [
      "{'apple', 'orange', 'google', 'kiwi', 'microsoft'}\n"
     ]
    }
   ],
   "source": [
    "#Union operation\n",
    "print(set1.union(set2))"
   ]
  },
  {
   "cell_type": "code",
   "execution_count": 16,
   "id": "ee63e32e",
   "metadata": {},
   "outputs": [
    {
     "name": "stdout",
     "output_type": "stream",
     "text": [
      "{'apple'}\n"
     ]
    }
   ],
   "source": [
    "#Intersection\n",
    "print(set1.intersection(set2))"
   ]
  },
  {
   "cell_type": "code",
   "execution_count": 17,
   "id": "e6334514",
   "metadata": {},
   "outputs": [
    {
     "name": "stdout",
     "output_type": "stream",
     "text": [
      "False\n"
     ]
    }
   ],
   "source": [
    "#subset\n",
    "print(set1.issubset(set2))"
   ]
  },
  {
   "cell_type": "code",
   "execution_count": 18,
   "id": "4c128b99",
   "metadata": {},
   "outputs": [
    {
     "name": "stdout",
     "output_type": "stream",
     "text": [
      "False\n"
     ]
    }
   ],
   "source": [
    "#superset\n",
    "print(set1.issuperset(set2))"
   ]
  },
  {
   "cell_type": "code",
   "execution_count": 19,
   "id": "816b9fca",
   "metadata": {},
   "outputs": [
    {
     "name": "stdout",
     "output_type": "stream",
     "text": [
      "{'apple', 'orange', 'google', 'kiwi', 'microsoft'}\n"
     ]
    }
   ],
   "source": [
    "#update\n",
    "set1.update(set2)\n",
    "print(set1)"
   ]
  },
  {
   "cell_type": "markdown",
   "id": "8b8d3653",
   "metadata": {},
   "source": [
    "# Dictionary"
   ]
  },
  {
   "cell_type": "code",
   "execution_count": null,
   "id": "e7e65f73",
   "metadata": {},
   "outputs": [],
   "source": [
    "unodered, changeable, indexed, {k1:v1,k2:v2,k3:v3}"
   ]
  },
  {
   "cell_type": "code",
   "execution_count": 20,
   "id": "c582b5a9",
   "metadata": {},
   "outputs": [
    {
     "data": {
      "text/plain": [
       "{'brand': 'maruti', 'model': 'ertiga', 'year': 2011}"
      ]
     },
     "execution_count": 20,
     "metadata": {},
     "output_type": "execute_result"
    }
   ],
   "source": [
    "#create dictionary\n",
    "thisdict = {\n",
    "    \"brand\":\"maruti\",\n",
    "    \"model\":\"ertiga\",\n",
    "    \"year\":2011\n",
    "}\n",
    "thisdict"
   ]
  },
  {
   "cell_type": "code",
   "execution_count": 22,
   "id": "9c6d7142",
   "metadata": {},
   "outputs": [
    {
     "name": "stdout",
     "output_type": "stream",
     "text": [
      "dict_values(['maruti', 'ertiga', 2011])\n"
     ]
    }
   ],
   "source": [
    "print(thisdict.values())"
   ]
  },
  {
   "cell_type": "code",
   "execution_count": 23,
   "id": "60c797cb",
   "metadata": {},
   "outputs": [
    {
     "name": "stdout",
     "output_type": "stream",
     "text": [
      "dict_keys(['brand', 'model', 'year'])\n"
     ]
    }
   ],
   "source": [
    "print(thisdict.keys())"
   ]
  },
  {
   "cell_type": "code",
   "execution_count": 24,
   "id": "be0d7450",
   "metadata": {},
   "outputs": [
    {
     "name": "stdout",
     "output_type": "stream",
     "text": [
      "ertiga\n"
     ]
    }
   ],
   "source": [
    "#Access items\n",
    "print(thisdict[\"model\"])"
   ]
  },
  {
   "cell_type": "code",
   "execution_count": 26,
   "id": "c6ab9baf",
   "metadata": {},
   "outputs": [
    {
     "name": "stdout",
     "output_type": "stream",
     "text": [
      "brand\n",
      "model\n",
      "year\n"
     ]
    }
   ],
   "source": [
    "for x in thisdict:\n",
    "    print(x)"
   ]
  },
  {
   "cell_type": "code",
   "execution_count": 27,
   "id": "8d66c353",
   "metadata": {},
   "outputs": [
    {
     "name": "stdout",
     "output_type": "stream",
     "text": [
      "brand maruti\n",
      "model ertiga\n",
      "year 2011\n"
     ]
    }
   ],
   "source": [
    "for x,y in thisdict.items():\n",
    "    print(x,y)"
   ]
  },
  {
   "cell_type": "code",
   "execution_count": 28,
   "id": "de2a07f6",
   "metadata": {},
   "outputs": [
    {
     "data": {
      "text/plain": [
       "{'brand': 'maruti', 'model': 'ertiga', 'year': 2011, 'color': 'red'}"
      ]
     },
     "execution_count": 28,
     "metadata": {},
     "output_type": "execute_result"
    }
   ],
   "source": [
    "thisdict[\"color\"] = \"red\"\n",
    "thisdict"
   ]
  },
  {
   "cell_type": "code",
   "execution_count": 29,
   "id": "c5b30a33",
   "metadata": {},
   "outputs": [
    {
     "data": {
      "text/plain": [
       "{'brand': 'maruti', 'model': 'ertiga', 'color': 'red'}"
      ]
     },
     "execution_count": 29,
     "metadata": {},
     "output_type": "execute_result"
    }
   ],
   "source": [
    "thisdict.pop(\"year\")\n",
    "thisdict"
   ]
  },
  {
   "cell_type": "code",
   "execution_count": 30,
   "id": "3d65181a",
   "metadata": {},
   "outputs": [
    {
     "data": {
      "text/plain": [
       "{'brand': 'maruti', 'model': 'ertiga'}"
      ]
     },
     "execution_count": 30,
     "metadata": {},
     "output_type": "execute_result"
    }
   ],
   "source": [
    "thisdict.popitem()\n",
    "thisdict"
   ]
  },
  {
   "cell_type": "code",
   "execution_count": 31,
   "id": "e66854a1",
   "metadata": {},
   "outputs": [
    {
     "data": {
      "text/plain": [
       "{'model': 'ertiga'}"
      ]
     },
     "execution_count": 31,
     "metadata": {},
     "output_type": "execute_result"
    }
   ],
   "source": [
    "del thisdict[\"brand\"]\n",
    "thisdict"
   ]
  },
  {
   "cell_type": "code",
   "execution_count": 32,
   "id": "699939da",
   "metadata": {},
   "outputs": [
    {
     "ename": "NameError",
     "evalue": "name 'thisdict' is not defined",
     "output_type": "error",
     "traceback": [
      "\u001b[1;31m---------------------------------------------------------------------------\u001b[0m",
      "\u001b[1;31mNameError\u001b[0m                                 Traceback (most recent call last)",
      "Input \u001b[1;32mIn [32]\u001b[0m, in \u001b[0;36m<cell line: 2>\u001b[1;34m()\u001b[0m\n\u001b[0;32m      1\u001b[0m \u001b[38;5;28;01mdel\u001b[39;00m thisdict\n\u001b[1;32m----> 2\u001b[0m \u001b[43mthisdict\u001b[49m\n",
      "\u001b[1;31mNameError\u001b[0m: name 'thisdict' is not defined"
     ]
    }
   ],
   "source": [
    "del thisdict\n",
    "thisdict"
   ]
  },
  {
   "cell_type": "code",
   "execution_count": null,
   "id": "adf4552e",
   "metadata": {},
   "outputs": [],
   "source": [
    "#File Handling in Python\n",
    "open() is used to open files"
   ]
  },
  {
   "cell_type": "code",
   "execution_count": null,
   "id": "43d7ba40",
   "metadata": {},
   "outputs": [],
   "source": [
    "\"r\" - Read - opens a file for reading, error if the file does not exists\n",
    "\"a\" - Append - Opens a file for appending, creates a file if it does not exist\n",
    "\"w\" - write - Opens a files for writing, creates the file if it does not exist, overwrites the existing content\n",
    "\"x\" - Create - create the specified file, returns an error if the file exists"
   ]
  },
  {
   "cell_type": "code",
   "execution_count": 33,
   "id": "07caaad3",
   "metadata": {},
   "outputs": [],
   "source": [
    "#creating a new text\n",
    "file = open(\"C://Users//91814//Documents//ExcelR//Python//File Operations//mydemo.txt\",\"x\")\n",
    "file.write(\"Hey, what a beautiful day!!!!!\")\n",
    "file.close()"
   ]
  },
  {
   "cell_type": "code",
   "execution_count": 34,
   "id": "005a254c",
   "metadata": {},
   "outputs": [
    {
     "name": "stdout",
     "output_type": "stream",
     "text": [
      "Hey, what a beautiful day!!!!!\n"
     ]
    }
   ],
   "source": [
    "file = open(\"C://Users//91814//Documents//ExcelR//Python//File Operations//mydemo.txt\")\n",
    "print(file.read())\n",
    "file.close()"
   ]
  },
  {
   "cell_type": "code",
   "execution_count": 35,
   "id": "a0fccf68",
   "metadata": {},
   "outputs": [
    {
     "name": "stdout",
     "output_type": "stream",
     "text": [
      "Earlier content got erased!!!!!\n"
     ]
    }
   ],
   "source": [
    "#write to the file\n",
    "file = open(\"C://Users//91814//Documents//ExcelR//Python//File Operations//mydemo.txt\",\"w\")\n",
    "file.write(\"Earlier content got erased!!!!!\")\n",
    "file.close()\n",
    "file = open(\"C://Users//91814//Documents//ExcelR//Python//File Operations//mydemo.txt\")\n",
    "print(file.read())\n",
    "file.close()"
   ]
  },
  {
   "cell_type": "code",
   "execution_count": 39,
   "id": "7e5ad9b6",
   "metadata": {},
   "outputs": [
    {
     "name": "stdout",
     "output_type": "stream",
     "text": [
      "Earlier content got erased!!!!!Appending new content in a new linenAppending again some more new content in a new line /nAppending again some more new content in a new line \n",
      "Maybe some other time \n",
      "\n"
     ]
    }
   ],
   "source": [
    "#Appending content to the file\n",
    "file = open(\"C://Users//91814//Documents//ExcelR//Python//File Operations//mydemo.txt\",\"a\")\n",
    "file.write(\"Maybe some other time \\n\")\n",
    "file.close()\n",
    "file = open(\"C://Users//91814//Documents//ExcelR//Python//File Operations//mydemo.txt\")\n",
    "print(file.read())\n",
    "file.close()"
   ]
  },
  {
   "cell_type": "code",
   "execution_count": 40,
   "id": "42002927",
   "metadata": {},
   "outputs": [
    {
     "name": "stdout",
     "output_type": "stream",
     "text": [
      "file deletion successful\n"
     ]
    }
   ],
   "source": [
    "import os\n",
    "if os.path.exists(\"C://Users//91814//Documents//ExcelR//Python//File Operations//mydemo.txt\"):\n",
    "    os.remove(\"C://Users//91814//Documents//ExcelR//Python//File Operations//mydemo.txt\")\n",
    "    print(\"file deletion successful\")\n",
    "else:\n",
    "    print(\"file does not exist\")"
   ]
  },
  {
   "cell_type": "markdown",
   "id": "c360306a",
   "metadata": {},
   "source": [
    "# Matplotlib"
   ]
  },
  {
   "cell_type": "code",
   "execution_count": 42,
   "id": "9df38e35",
   "metadata": {},
   "outputs": [
    {
     "data": {
      "image/png": "[encoded data removed]",
      "text/plain": [
       "<Figure size 432x288 with 1 Axes>"
      ]
     },
     "metadata": {
      "needs_background": "light"
     },
     "output_type": "display_data"
    }
   ],
   "source": [
    "import matplotlib.pyplot as plt\n",
    "x = [1,2,3,4]\n",
    "y = [1,4,9,16]\n",
    "plt.title(\"First Line Plot\")\n",
    "plt.xlabel(\"x-axis\")\n",
    "plt.ylabel(\"y-axis\")\n",
    "plt.plot(x,y)\n",
    "plt.show()"
   ]
  },
  {
   "cell_type": "code",
   "execution_count": 44,
   "id": "afc3593c",
   "metadata": {},
   "outputs": [
    {
     "data": {
      "image/png": "[encoded data removed]",
      "text/plain": [
       "<Figure size 432x288 with 1 Axes>"
      ]
     },
     "metadata": {},
     "output_type": "display_data"
    }
   ],
   "source": [
    "import matplotlib.pyplot as plt\n",
    "import matplotlib.style as stl\n",
    "stl.use(\"ggplot\")\n",
    "x1 = [5,8,10]\n",
    "y1 = [12,6,6]\n",
    "x2=[6,9,11]\n",
    "y2 = [6,15,7]\n",
    "\n",
    "plt.bar(x1,y1, color = \"y\")\n",
    "plt.bar(x2,y2,color = 'g')\n",
    "\n",
    "plt.title(\"First Bar Plot\")\n",
    "plt.xlabel(\"x-axis\")\n",
    "plt.ylabel(\"y-axis\")\n",
    "\n",
    "plt.show()"
   ]
  },
  {
   "cell_type": "code",
   "execution_count": null,
   "id": "fa633c5f",
   "metadata": {},
   "outputs": [],
   "source": []
  },
  {
   "cell_type": "code",
   "execution_count": null,
   "id": "b1552b48",
   "metadata": {},
   "outputs": [],
   "source": []
  },
  {
   "cell_type": "code",
   "execution_count": null,
   "id": "af4ada92",
   "metadata": {},
   "outputs": [],
   "source": []
  },
  {
   "cell_type": "code",
   "execution_count": null,
   "id": "777cc09f",
   "metadata": {},
   "outputs": [],
   "source": []
  },
  {
   "cell_type": "code",
   "execution_count": null,
   "id": "722f7b98",
   "metadata": {},
   "outputs": [],
   "source": []
  },
  {
   "cell_type": "code",
   "execution_count": null,
   "id": "41789336",
   "metadata": {},
   "outputs": [],
   "source": []
  },
  {
   "cell_type": "code",
   "execution_count": null,
   "id": "8da66ae9",
   "metadata": {},
   "outputs": [],
   "source": []
  },
  {
   "cell_type": "code",
   "execution_count": null,
   "id": "1b6a7e58",
   "metadata": {},
   "outputs": [],
   "source": []
  },
  {
   "cell_type": "code",
   "execution_count": null,
   "id": "ff2c4ff5",
   "metadata": {},
   "outputs": [],
   "source": []
  },
  {
   "cell_type": "code",
   "execution_count": null,
   "id": "9ff7c0c3",
   "metadata": {},
   "outputs": [],
   "source": []
  },
  {
   "cell_type": "code",
   "execution_count": null,
   "id": "6f5b9510",
   "metadata": {},
   "outputs": [],
   "source": []
  },
  {
   "cell_type": "code",
   "execution_count": null,
   "id": "cfeb352f",
   "metadata": {},
   "outputs": [],
   "source": []
  },
  {
   "cell_type": "code",
   "execution_count": null,
   "id": "df3051f0",
   "metadata": {},
   "outputs": [],
   "source": []
  },
  {
   "cell_type": "code",
   "execution_count": null,
   "id": "fcbbf6df",
   "metadata": {},
   "outputs": [],
   "source": []
  }
 ],
 "metadata": {
  "kernelspec": {
   "display_name": "Python 3 (ipykernel)",
   "language": "python",
   "name": "python3"
  },
  "language_info": {
   "codemirror_mode": {
    "name": "ipython",
    "version": 3
   },
   "file_extension": ".py",
   "mimetype": "text/x-python",
   "name": "python",
   "nbconvert_exporter": "python",
   "pygments_lexer": "ipython3",
   "version": "3.9.12"
  }
 },
 "nbformat": 4,
 "nbformat_minor": 5
}
